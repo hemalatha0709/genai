{
  "nbformat": 4,
  "nbformat_minor": 0,
  "metadata": {
    "colab": {
      "provenance": []
    },
    "kernelspec": {
      "name": "python3",
      "display_name": "Python 3"
    },
    "language_info": {
      "name": "python"
    },
    "widgets": {
      "application/vnd.jupyter.widget-state+json": {
        "ec4c02e2c9a346d7b6b38b375a283535": {
          "model_module": "@jupyter-widgets/controls",
          "model_name": "HBoxModel",
          "model_module_version": "1.5.0",
          "state": {
            "_dom_classes": [],
            "_model_module": "@jupyter-widgets/controls",
            "_model_module_version": "1.5.0",
            "_model_name": "HBoxModel",
            "_view_count": null,
            "_view_module": "@jupyter-widgets/controls",
            "_view_module_version": "1.5.0",
            "_view_name": "HBoxView",
            "box_style": "",
            "children": [
              "IPY_MODEL_7faa1deeeb0d414a808cd7cc10ce619c",
              "IPY_MODEL_3939384d3df54e12851181e1e5669764",
              "IPY_MODEL_b7fb684da0f14ba78b0a4b2de3ae2bdb"
            ],
            "layout": "IPY_MODEL_8261f90f721c4b2f88b71762ea72ecb0"
          }
        },
        "7faa1deeeb0d414a808cd7cc10ce619c": {
          "model_module": "@jupyter-widgets/controls",
          "model_name": "HTMLModel",
          "model_module_version": "1.5.0",
          "state": {
            "_dom_classes": [],
            "_model_module": "@jupyter-widgets/controls",
            "_model_module_version": "1.5.0",
            "_model_name": "HTMLModel",
            "_view_count": null,
            "_view_module": "@jupyter-widgets/controls",
            "_view_module_version": "1.5.0",
            "_view_name": "HTMLView",
            "description": "",
            "description_tooltip": null,
            "layout": "IPY_MODEL_8f9994ee27e64434a0549fe207cfe7c8",
            "placeholder": "​",
            "style": "IPY_MODEL_7b0d1836d6fd4a5988630b7c21dcff0b",
            "value": "Loading checkpoint shards: 100%"
          }
        },
        "3939384d3df54e12851181e1e5669764": {
          "model_module": "@jupyter-widgets/controls",
          "model_name": "FloatProgressModel",
          "model_module_version": "1.5.0",
          "state": {
            "_dom_classes": [],
            "_model_module": "@jupyter-widgets/controls",
            "_model_module_version": "1.5.0",
            "_model_name": "FloatProgressModel",
            "_view_count": null,
            "_view_module": "@jupyter-widgets/controls",
            "_view_module_version": "1.5.0",
            "_view_name": "ProgressView",
            "bar_style": "success",
            "description": "",
            "description_tooltip": null,
            "layout": "IPY_MODEL_f7c4cd219d6042018b6cb0ac3393b5f3",
            "max": 2,
            "min": 0,
            "orientation": "horizontal",
            "style": "IPY_MODEL_06b7b6ce8e9844d6b4487b11493f70c4",
            "value": 2
          }
        },
        "b7fb684da0f14ba78b0a4b2de3ae2bdb": {
          "model_module": "@jupyter-widgets/controls",
          "model_name": "HTMLModel",
          "model_module_version": "1.5.0",
          "state": {
            "_dom_classes": [],
            "_model_module": "@jupyter-widgets/controls",
            "_model_module_version": "1.5.0",
            "_model_name": "HTMLModel",
            "_view_count": null,
            "_view_module": "@jupyter-widgets/controls",
            "_view_module_version": "1.5.0",
            "_view_name": "HTMLView",
            "description": "",
            "description_tooltip": null,
            "layout": "IPY_MODEL_6b39632391884bf89b02b8191efa928f",
            "placeholder": "​",
            "style": "IPY_MODEL_16fcea47bdad4cb1b407bf8b755b27f9",
            "value": " 2/2 [00:44&lt;00:00, 44.96s/it]"
          }
        },
        "8261f90f721c4b2f88b71762ea72ecb0": {
          "model_module": "@jupyter-widgets/base",
          "model_name": "LayoutModel",
          "model_module_version": "1.2.0",
          "state": {
            "_model_module": "@jupyter-widgets/base",
            "_model_module_version": "1.2.0",
            "_model_name": "LayoutModel",
            "_view_count": null,
            "_view_module": "@jupyter-widgets/base",
            "_view_module_version": "1.2.0",
            "_view_name": "LayoutView",
            "align_content": null,
            "align_items": null,
            "align_self": null,
            "border": null,
            "bottom": null,
            "display": null,
            "flex": null,
            "flex_flow": null,
            "grid_area": null,
            "grid_auto_columns": null,
            "grid_auto_flow": null,
            "grid_auto_rows": null,
            "grid_column": null,
            "grid_gap": null,
            "grid_row": null,
            "grid_template_areas": null,
            "grid_template_columns": null,
            "grid_template_rows": null,
            "height": null,
            "justify_content": null,
            "justify_items": null,
            "left": null,
            "margin": null,
            "max_height": null,
            "max_width": null,
            "min_height": null,
            "min_width": null,
            "object_fit": null,
            "object_position": null,
            "order": null,
            "overflow": null,
            "overflow_x": null,
            "overflow_y": null,
            "padding": null,
            "right": null,
            "top": null,
            "visibility": null,
            "width": null
          }
        },
        "8f9994ee27e64434a0549fe207cfe7c8": {
          "model_module": "@jupyter-widgets/base",
          "model_name": "LayoutModel",
          "model_module_version": "1.2.0",
          "state": {
            "_model_module": "@jupyter-widgets/base",
            "_model_module_version": "1.2.0",
            "_model_name": "LayoutModel",
            "_view_count": null,
            "_view_module": "@jupyter-widgets/base",
            "_view_module_version": "1.2.0",
            "_view_name": "LayoutView",
            "align_content": null,
            "align_items": null,
            "align_self": null,
            "border": null,
            "bottom": null,
            "display": null,
            "flex": null,
            "flex_flow": null,
            "grid_area": null,
            "grid_auto_columns": null,
            "grid_auto_flow": null,
            "grid_auto_rows": null,
            "grid_column": null,
            "grid_gap": null,
            "grid_row": null,
            "grid_template_areas": null,
            "grid_template_columns": null,
            "grid_template_rows": null,
            "height": null,
            "justify_content": null,
            "justify_items": null,
            "left": null,
            "margin": null,
            "max_height": null,
            "max_width": null,
            "min_height": null,
            "min_width": null,
            "object_fit": null,
            "object_position": null,
            "order": null,
            "overflow": null,
            "overflow_x": null,
            "overflow_y": null,
            "padding": null,
            "right": null,
            "top": null,
            "visibility": null,
            "width": null
          }
        },
        "7b0d1836d6fd4a5988630b7c21dcff0b": {
          "model_module": "@jupyter-widgets/controls",
          "model_name": "DescriptionStyleModel",
          "model_module_version": "1.5.0",
          "state": {
            "_model_module": "@jupyter-widgets/controls",
            "_model_module_version": "1.5.0",
            "_model_name": "DescriptionStyleModel",
            "_view_count": null,
            "_view_module": "@jupyter-widgets/base",
            "_view_module_version": "1.2.0",
            "_view_name": "StyleView",
            "description_width": ""
          }
        },
        "f7c4cd219d6042018b6cb0ac3393b5f3": {
          "model_module": "@jupyter-widgets/base",
          "model_name": "LayoutModel",
          "model_module_version": "1.2.0",
          "state": {
            "_model_module": "@jupyter-widgets/base",
            "_model_module_version": "1.2.0",
            "_model_name": "LayoutModel",
            "_view_count": null,
            "_view_module": "@jupyter-widgets/base",
            "_view_module_version": "1.2.0",
            "_view_name": "LayoutView",
            "align_content": null,
            "align_items": null,
            "align_self": null,
            "border": null,
            "bottom": null,
            "display": null,
            "flex": null,
            "flex_flow": null,
            "grid_area": null,
            "grid_auto_columns": null,
            "grid_auto_flow": null,
            "grid_auto_rows": null,
            "grid_column": null,
            "grid_gap": null,
            "grid_row": null,
            "grid_template_areas": null,
            "grid_template_columns": null,
            "grid_template_rows": null,
            "height": null,
            "justify_content": null,
            "justify_items": null,
            "left": null,
            "margin": null,
            "max_height": null,
            "max_width": null,
            "min_height": null,
            "min_width": null,
            "object_fit": null,
            "object_position": null,
            "order": null,
            "overflow": null,
            "overflow_x": null,
            "overflow_y": null,
            "padding": null,
            "right": null,
            "top": null,
            "visibility": null,
            "width": null
          }
        },
        "06b7b6ce8e9844d6b4487b11493f70c4": {
          "model_module": "@jupyter-widgets/controls",
          "model_name": "ProgressStyleModel",
          "model_module_version": "1.5.0",
          "state": {
            "_model_module": "@jupyter-widgets/controls",
            "_model_module_version": "1.5.0",
            "_model_name": "ProgressStyleModel",
            "_view_count": null,
            "_view_module": "@jupyter-widgets/base",
            "_view_module_version": "1.2.0",
            "_view_name": "StyleView",
            "bar_color": null,
            "description_width": ""
          }
        },
        "6b39632391884bf89b02b8191efa928f": {
          "model_module": "@jupyter-widgets/base",
          "model_name": "LayoutModel",
          "model_module_version": "1.2.0",
          "state": {
            "_model_module": "@jupyter-widgets/base",
            "_model_module_version": "1.2.0",
            "_model_name": "LayoutModel",
            "_view_count": null,
            "_view_module": "@jupyter-widgets/base",
            "_view_module_version": "1.2.0",
            "_view_name": "LayoutView",
            "align_content": null,
            "align_items": null,
            "align_self": null,
            "border": null,
            "bottom": null,
            "display": null,
            "flex": null,
            "flex_flow": null,
            "grid_area": null,
            "grid_auto_columns": null,
            "grid_auto_flow": null,
            "grid_auto_rows": null,
            "grid_column": null,
            "grid_gap": null,
            "grid_row": null,
            "grid_template_areas": null,
            "grid_template_columns": null,
            "grid_template_rows": null,
            "height": null,
            "justify_content": null,
            "justify_items": null,
            "left": null,
            "margin": null,
            "max_height": null,
            "max_width": null,
            "min_height": null,
            "min_width": null,
            "object_fit": null,
            "object_position": null,
            "order": null,
            "overflow": null,
            "overflow_x": null,
            "overflow_y": null,
            "padding": null,
            "right": null,
            "top": null,
            "visibility": null,
            "width": null
          }
        },
        "16fcea47bdad4cb1b407bf8b755b27f9": {
          "model_module": "@jupyter-widgets/controls",
          "model_name": "DescriptionStyleModel",
          "model_module_version": "1.5.0",
          "state": {
            "_model_module": "@jupyter-widgets/controls",
            "_model_module_version": "1.5.0",
            "_model_name": "DescriptionStyleModel",
            "_view_count": null,
            "_view_module": "@jupyter-widgets/base",
            "_view_module_version": "1.2.0",
            "_view_name": "StyleView",
            "description_width": ""
          }
        },
        "06e27c829bb64115b66f5bd8d78fd3cd": {
          "model_module": "@jupyter-widgets/controls",
          "model_name": "HBoxModel",
          "model_module_version": "1.5.0",
          "state": {
            "_dom_classes": [],
            "_model_module": "@jupyter-widgets/controls",
            "_model_module_version": "1.5.0",
            "_model_name": "HBoxModel",
            "_view_count": null,
            "_view_module": "@jupyter-widgets/controls",
            "_view_module_version": "1.5.0",
            "_view_name": "HBoxView",
            "box_style": "",
            "children": [
              "IPY_MODEL_8b626466a94942e08bd737710ee1761f",
              "IPY_MODEL_94cbe2b3f3384618b3ec44799e801d81",
              "IPY_MODEL_19a516b76c0a40a7baaafd86f3c19091"
            ],
            "layout": "IPY_MODEL_eff84962416b42aa9495a1d189d92bb4"
          }
        },
        "8b626466a94942e08bd737710ee1761f": {
          "model_module": "@jupyter-widgets/controls",
          "model_name": "HTMLModel",
          "model_module_version": "1.5.0",
          "state": {
            "_dom_classes": [],
            "_model_module": "@jupyter-widgets/controls",
            "_model_module_version": "1.5.0",
            "_model_name": "HTMLModel",
            "_view_count": null,
            "_view_module": "@jupyter-widgets/controls",
            "_view_module_version": "1.5.0",
            "_view_name": "HTMLView",
            "description": "",
            "description_tooltip": null,
            "layout": "IPY_MODEL_cea5f6e8181b417a866a606e25ac3db2",
            "placeholder": "​",
            "style": "IPY_MODEL_3f3b53b596b64709b3082fbcee3b2c1c",
            "value": "generation_config.json: 100%"
          }
        },
        "94cbe2b3f3384618b3ec44799e801d81": {
          "model_module": "@jupyter-widgets/controls",
          "model_name": "FloatProgressModel",
          "model_module_version": "1.5.0",
          "state": {
            "_dom_classes": [],
            "_model_module": "@jupyter-widgets/controls",
            "_model_module_version": "1.5.0",
            "_model_name": "FloatProgressModel",
            "_view_count": null,
            "_view_module": "@jupyter-widgets/controls",
            "_view_module_version": "1.5.0",
            "_view_name": "ProgressView",
            "bar_style": "success",
            "description": "",
            "description_tooltip": null,
            "layout": "IPY_MODEL_e23becc68e7544e9aeeb25a62b1e703c",
            "max": 137,
            "min": 0,
            "orientation": "horizontal",
            "style": "IPY_MODEL_59ade75134dc4f6cab2fb5462d0f4984",
            "value": 137
          }
        },
        "19a516b76c0a40a7baaafd86f3c19091": {
          "model_module": "@jupyter-widgets/controls",
          "model_name": "HTMLModel",
          "model_module_version": "1.5.0",
          "state": {
            "_dom_classes": [],
            "_model_module": "@jupyter-widgets/controls",
            "_model_module_version": "1.5.0",
            "_model_name": "HTMLModel",
            "_view_count": null,
            "_view_module": "@jupyter-widgets/controls",
            "_view_module_version": "1.5.0",
            "_view_name": "HTMLView",
            "description": "",
            "description_tooltip": null,
            "layout": "IPY_MODEL_0d265ae623bc4364b791b0cfeeae511a",
            "placeholder": "​",
            "style": "IPY_MODEL_5680fcb6efbc415984b5320b5d85271c",
            "value": " 137/137 [00:00&lt;00:00, 7.64kB/s]"
          }
        },
        "eff84962416b42aa9495a1d189d92bb4": {
          "model_module": "@jupyter-widgets/base",
          "model_name": "LayoutModel",
          "model_module_version": "1.2.0",
          "state": {
            "_model_module": "@jupyter-widgets/base",
            "_model_module_version": "1.2.0",
            "_model_name": "LayoutModel",
            "_view_count": null,
            "_view_module": "@jupyter-widgets/base",
            "_view_module_version": "1.2.0",
            "_view_name": "LayoutView",
            "align_content": null,
            "align_items": null,
            "align_self": null,
            "border": null,
            "bottom": null,
            "display": null,
            "flex": null,
            "flex_flow": null,
            "grid_area": null,
            "grid_auto_columns": null,
            "grid_auto_flow": null,
            "grid_auto_rows": null,
            "grid_column": null,
            "grid_gap": null,
            "grid_row": null,
            "grid_template_areas": null,
            "grid_template_columns": null,
            "grid_template_rows": null,
            "height": null,
            "justify_content": null,
            "justify_items": null,
            "left": null,
            "margin": null,
            "max_height": null,
            "max_width": null,
            "min_height": null,
            "min_width": null,
            "object_fit": null,
            "object_position": null,
            "order": null,
            "overflow": null,
            "overflow_x": null,
            "overflow_y": null,
            "padding": null,
            "right": null,
            "top": null,
            "visibility": null,
            "width": null
          }
        },
        "cea5f6e8181b417a866a606e25ac3db2": {
          "model_module": "@jupyter-widgets/base",
          "model_name": "LayoutModel",
          "model_module_version": "1.2.0",
          "state": {
            "_model_module": "@jupyter-widgets/base",
            "_model_module_version": "1.2.0",
            "_model_name": "LayoutModel",
            "_view_count": null,
            "_view_module": "@jupyter-widgets/base",
            "_view_module_version": "1.2.0",
            "_view_name": "LayoutView",
            "align_content": null,
            "align_items": null,
            "align_self": null,
            "border": null,
            "bottom": null,
            "display": null,
            "flex": null,
            "flex_flow": null,
            "grid_area": null,
            "grid_auto_columns": null,
            "grid_auto_flow": null,
            "grid_auto_rows": null,
            "grid_column": null,
            "grid_gap": null,
            "grid_row": null,
            "grid_template_areas": null,
            "grid_template_columns": null,
            "grid_template_rows": null,
            "height": null,
            "justify_content": null,
            "justify_items": null,
            "left": null,
            "margin": null,
            "max_height": null,
            "max_width": null,
            "min_height": null,
            "min_width": null,
            "object_fit": null,
            "object_position": null,
            "order": null,
            "overflow": null,
            "overflow_x": null,
            "overflow_y": null,
            "padding": null,
            "right": null,
            "top": null,
            "visibility": null,
            "width": null
          }
        },
        "3f3b53b596b64709b3082fbcee3b2c1c": {
          "model_module": "@jupyter-widgets/controls",
          "model_name": "DescriptionStyleModel",
          "model_module_version": "1.5.0",
          "state": {
            "_model_module": "@jupyter-widgets/controls",
            "_model_module_version": "1.5.0",
            "_model_name": "DescriptionStyleModel",
            "_view_count": null,
            "_view_module": "@jupyter-widgets/base",
            "_view_module_version": "1.2.0",
            "_view_name": "StyleView",
            "description_width": ""
          }
        },
        "e23becc68e7544e9aeeb25a62b1e703c": {
          "model_module": "@jupyter-widgets/base",
          "model_name": "LayoutModel",
          "model_module_version": "1.2.0",
          "state": {
            "_model_module": "@jupyter-widgets/base",
            "_model_module_version": "1.2.0",
            "_model_name": "LayoutModel",
            "_view_count": null,
            "_view_module": "@jupyter-widgets/base",
            "_view_module_version": "1.2.0",
            "_view_name": "LayoutView",
            "align_content": null,
            "align_items": null,
            "align_self": null,
            "border": null,
            "bottom": null,
            "display": null,
            "flex": null,
            "flex_flow": null,
            "grid_area": null,
            "grid_auto_columns": null,
            "grid_auto_flow": null,
            "grid_auto_rows": null,
            "grid_column": null,
            "grid_gap": null,
            "grid_row": null,
            "grid_template_areas": null,
            "grid_template_columns": null,
            "grid_template_rows": null,
            "height": null,
            "justify_content": null,
            "justify_items": null,
            "left": null,
            "margin": null,
            "max_height": null,
            "max_width": null,
            "min_height": null,
            "min_width": null,
            "object_fit": null,
            "object_position": null,
            "order": null,
            "overflow": null,
            "overflow_x": null,
            "overflow_y": null,
            "padding": null,
            "right": null,
            "top": null,
            "visibility": null,
            "width": null
          }
        },
        "59ade75134dc4f6cab2fb5462d0f4984": {
          "model_module": "@jupyter-widgets/controls",
          "model_name": "ProgressStyleModel",
          "model_module_version": "1.5.0",
          "state": {
            "_model_module": "@jupyter-widgets/controls",
            "_model_module_version": "1.5.0",
            "_model_name": "ProgressStyleModel",
            "_view_count": null,
            "_view_module": "@jupyter-widgets/base",
            "_view_module_version": "1.2.0",
            "_view_name": "StyleView",
            "bar_color": null,
            "description_width": ""
          }
        },
        "0d265ae623bc4364b791b0cfeeae511a": {
          "model_module": "@jupyter-widgets/base",
          "model_name": "LayoutModel",
          "model_module_version": "1.2.0",
          "state": {
            "_model_module": "@jupyter-widgets/base",
            "_model_module_version": "1.2.0",
            "_model_name": "LayoutModel",
            "_view_count": null,
            "_view_module": "@jupyter-widgets/base",
            "_view_module_version": "1.2.0",
            "_view_name": "LayoutView",
            "align_content": null,
            "align_items": null,
            "align_self": null,
            "border": null,
            "bottom": null,
            "display": null,
            "flex": null,
            "flex_flow": null,
            "grid_area": null,
            "grid_auto_columns": null,
            "grid_auto_flow": null,
            "grid_auto_rows": null,
            "grid_column": null,
            "grid_gap": null,
            "grid_row": null,
            "grid_template_areas": null,
            "grid_template_columns": null,
            "grid_template_rows": null,
            "height": null,
            "justify_content": null,
            "justify_items": null,
            "left": null,
            "margin": null,
            "max_height": null,
            "max_width": null,
            "min_height": null,
            "min_width": null,
            "object_fit": null,
            "object_position": null,
            "order": null,
            "overflow": null,
            "overflow_x": null,
            "overflow_y": null,
            "padding": null,
            "right": null,
            "top": null,
            "visibility": null,
            "width": null
          }
        },
        "5680fcb6efbc415984b5320b5d85271c": {
          "model_module": "@jupyter-widgets/controls",
          "model_name": "DescriptionStyleModel",
          "model_module_version": "1.5.0",
          "state": {
            "_model_module": "@jupyter-widgets/controls",
            "_model_module_version": "1.5.0",
            "_model_name": "DescriptionStyleModel",
            "_view_count": null,
            "_view_module": "@jupyter-widgets/base",
            "_view_module_version": "1.2.0",
            "_view_name": "StyleView",
            "description_width": ""
          }
        }
      }
    }
  },
  "cells": [
    {
      "cell_type": "code",
      "source": [
        "!pip install python-docx PyPDF2 ebooklib\n"
      ],
      "metadata": {
        "colab": {
          "base_uri": "https://localhost:8080/"
        },
        "id": "zPvRgCqOIXh1",
        "outputId": "0d0414b8-04d2-4c7b-fbd7-3db54fd7c7b4"
      },
      "execution_count": 2,
      "outputs": [
        {
          "output_type": "stream",
          "name": "stdout",
          "text": [
            "Requirement already satisfied: python-docx in /usr/local/lib/python3.12/dist-packages (1.2.0)\n",
            "Collecting PyPDF2\n",
            "  Downloading pypdf2-3.0.1-py3-none-any.whl.metadata (6.8 kB)\n",
            "Collecting ebooklib\n",
            "  Downloading ebooklib-0.19-py3-none-any.whl.metadata (4.1 kB)\n",
            "Requirement already satisfied: lxml>=3.1.0 in /usr/local/lib/python3.12/dist-packages (from python-docx) (5.4.0)\n",
            "Requirement already satisfied: typing_extensions>=4.9.0 in /usr/local/lib/python3.12/dist-packages (from python-docx) (4.15.0)\n",
            "Requirement already satisfied: six in /usr/local/lib/python3.12/dist-packages (from ebooklib) (1.17.0)\n",
            "Downloading pypdf2-3.0.1-py3-none-any.whl (232 kB)\n",
            "\u001b[2K   \u001b[90m━━━━━━━━━━━━━━━━━━━━━━━━━━━━━━━━━━━━━━━━\u001b[0m \u001b[32m232.6/232.6 kB\u001b[0m \u001b[31m4.5 MB/s\u001b[0m eta \u001b[36m0:00:00\u001b[0m\n",
            "\u001b[?25hDownloading ebooklib-0.19-py3-none-any.whl (39 kB)\n",
            "Installing collected packages: PyPDF2, ebooklib\n",
            "Successfully installed PyPDF2-3.0.1 ebooklib-0.19\n"
          ]
        }
      ]
    },
    {
      "cell_type": "code",
      "source": [
        "from pathlib import Path\n",
        "import docx\n",
        "import PyPDF2\n",
        "from ebooklib import epub\n"
      ],
      "metadata": {
        "id": "sPzcpcU-Ig2Y"
      },
      "execution_count": 3,
      "outputs": []
    },
    {
      "cell_type": "code",
      "source": [
        "!apt-get update -y\n",
        "!apt-get install -y --no-install-recommends espeak-ng espeak ffmpeg libsndfile1\n",
        "\n",
        "# Core Python packages\n",
        "!pip install --quiet torch torchvision torchaudio\n",
        "!pip install --quiet gradio transformers accelerate datasets phonemizer\n",
        "\n",
        "# Install Coqui TTS from GitHub (Python 3.12 compatible)\n",
        "!pip install --quiet git+https://github.com/coqui-ai/TTS\n"
      ],
      "metadata": {
        "colab": {
          "base_uri": "https://localhost:8080/"
        },
        "id": "TTwxoTj4FSsn",
        "outputId": "5cf9486e-21e9-47e1-c088-e6d08547b706"
      },
      "execution_count": 14,
      "outputs": [
        {
          "output_type": "stream",
          "name": "stdout",
          "text": [
            "Hit:1 https://cloud.r-project.org/bin/linux/ubuntu jammy-cran40/ InRelease\n",
            "Hit:2 https://developer.download.nvidia.com/compute/cuda/repos/ubuntu2204/x86_64  InRelease\n",
            "Get:3 https://cli.github.com/packages stable InRelease [3,917 B]\n",
            "Hit:4 http://security.ubuntu.com/ubuntu jammy-security InRelease\n",
            "Hit:5 http://archive.ubuntu.com/ubuntu jammy InRelease\n",
            "Hit:6 https://r2u.stat.illinois.edu/ubuntu jammy InRelease\n",
            "Hit:7 http://archive.ubuntu.com/ubuntu jammy-updates InRelease\n",
            "Hit:8 http://archive.ubuntu.com/ubuntu jammy-backports InRelease\n",
            "Hit:9 https://ppa.launchpadcontent.net/deadsnakes/ppa/ubuntu jammy InRelease\n",
            "Hit:10 https://ppa.launchpadcontent.net/graphics-drivers/ppa/ubuntu jammy InRelease\n",
            "Hit:11 https://ppa.launchpadcontent.net/ubuntugis/ppa/ubuntu jammy InRelease\n",
            "Fetched 3,917 B in 2s (1,942 B/s)\n",
            "Reading package lists... Done\n",
            "W: Skipping acquire of configured file 'main/source/Sources' as repository 'https://r2u.stat.illinois.edu/ubuntu jammy InRelease' does not seem to provide it (sources.list entry misspelt?)\n",
            "Reading package lists... Done\n",
            "Building dependency tree... Done\n",
            "Reading state information... Done\n",
            "espeak is already the newest version (1.48.15+dfsg-3).\n",
            "libsndfile1 is already the newest version (1.0.31-2ubuntu0.2).\n",
            "espeak-ng is already the newest version (1.50+dfsg-10ubuntu0.1).\n",
            "ffmpeg is already the newest version (7:4.4.2-0ubuntu0.22.04.1).\n",
            "0 upgraded, 0 newly installed, 0 to remove and 40 not upgraded.\n",
            "  Installing build dependencies ... \u001b[?25l\u001b[?25hdone\n",
            "  \u001b[1;31merror\u001b[0m: \u001b[1msubprocess-exited-with-error\u001b[0m\n",
            "  \n",
            "  \u001b[31m×\u001b[0m \u001b[32mGetting requirements to build wheel\u001b[0m did not run successfully.\n",
            "  \u001b[31m│\u001b[0m exit code: \u001b[1;36m1\u001b[0m\n",
            "  \u001b[31m╰─>\u001b[0m See above for output.\n",
            "  \n",
            "  \u001b[1;35mnote\u001b[0m: This error originates from a subprocess, and is likely not a problem with pip.\n",
            "  Getting requirements to build wheel ... \u001b[?25l\u001b[?25herror\n",
            "\u001b[1;31merror\u001b[0m: \u001b[1msubprocess-exited-with-error\u001b[0m\n",
            "\n",
            "\u001b[31m×\u001b[0m \u001b[32mGetting requirements to build wheel\u001b[0m did not run successfully.\n",
            "\u001b[31m│\u001b[0m exit code: \u001b[1;36m1\u001b[0m\n",
            "\u001b[31m╰─>\u001b[0m See above for output.\n",
            "\n",
            "\u001b[1;35mnote\u001b[0m: This error originates from a subprocess, and is likely not a problem with pip.\n"
          ]
        }
      ]
    },
    {
      "cell_type": "code",
      "source": [
        "import os\n",
        "import re\n",
        "import torch\n",
        "import soundfile as sf\n",
        "import numpy as np\n",
        "import gradio as gr\n",
        "from transformers import AutoTokenizer, AutoModelForCausalLM\n",
        "from TTS.api import TTS\n"
      ],
      "metadata": {
        "id": "7zAG_iwyFj9O"
      },
      "execution_count": 15,
      "outputs": []
    },
    {
      "cell_type": "code",
      "source": [
        "GRANITE_MODEL = \"ibm-granite/granite-3b-code-instruct\"  # Example model, replace with <2B\n",
        "granite_tokenizer = AutoTokenizer.from_pretrained(GRANITE_MODEL)\n",
        "granite_model = AutoModelForCausalLM.from_pretrained(\n",
        "    GRANITE_MODEL,\n",
        "    torch_dtype=torch.float16 if torch.cuda.is_available() else torch.float32,\n",
        "    device_map=\"auto\"\n",
        ")\n",
        "\n",
        "def refine_text(input_text: str) -> str:\n",
        "    \"\"\"Use Granite to refine/clean text before audiobook conversion.\"\"\"\n",
        "    inputs = granite_tokenizer(input_text, return_tensors=\"pt\").to(granite_model.device)\n",
        "    with torch.no_grad():\n",
        "        outputs = granite_model.generate(\n",
        "            **inputs,\n",
        "            max_new_tokens=256,\n",
        "            temperature=0.7,\n",
        "            do_sample=True\n",
        "        )\n",
        "    return granite_tokenizer.decode(outputs[0], skip_special_tokens=True)\n"
      ],
      "metadata": {
        "colab": {
          "base_uri": "https://localhost:8080/",
          "height": 98,
          "referenced_widgets": [
            "ec4c02e2c9a346d7b6b38b375a283535",
            "7faa1deeeb0d414a808cd7cc10ce619c",
            "3939384d3df54e12851181e1e5669764",
            "b7fb684da0f14ba78b0a4b2de3ae2bdb",
            "8261f90f721c4b2f88b71762ea72ecb0",
            "8f9994ee27e64434a0549fe207cfe7c8",
            "7b0d1836d6fd4a5988630b7c21dcff0b",
            "f7c4cd219d6042018b6cb0ac3393b5f3",
            "06b7b6ce8e9844d6b4487b11493f70c4",
            "6b39632391884bf89b02b8191efa928f",
            "16fcea47bdad4cb1b407bf8b755b27f9",
            "06e27c829bb64115b66f5bd8d78fd3cd",
            "8b626466a94942e08bd737710ee1761f",
            "94cbe2b3f3384618b3ec44799e801d81",
            "19a516b76c0a40a7baaafd86f3c19091",
            "eff84962416b42aa9495a1d189d92bb4",
            "cea5f6e8181b417a866a606e25ac3db2",
            "3f3b53b596b64709b3082fbcee3b2c1c",
            "e23becc68e7544e9aeeb25a62b1e703c",
            "59ade75134dc4f6cab2fb5462d0f4984",
            "0d265ae623bc4364b791b0cfeeae511a",
            "5680fcb6efbc415984b5320b5d85271c"
          ]
        },
        "id": "WM3dtFCYFqHT",
        "outputId": "77604492-edca-4c0a-889e-0980ff9ff7c4"
      },
      "execution_count": 16,
      "outputs": [
        {
          "output_type": "display_data",
          "data": {
            "text/plain": [
              "Loading checkpoint shards:   0%|          | 0/2 [00:00<?, ?it/s]"
            ],
            "application/vnd.jupyter.widget-view+json": {
              "version_major": 2,
              "version_minor": 0,
              "model_id": "ec4c02e2c9a346d7b6b38b375a283535"
            }
          },
          "metadata": {}
        },
        {
          "output_type": "display_data",
          "data": {
            "text/plain": [
              "generation_config.json:   0%|          | 0.00/137 [00:00<?, ?B/s]"
            ],
            "application/vnd.jupyter.widget-view+json": {
              "version_major": 2,
              "version_minor": 0,
              "model_id": "06e27c829bb64115b66f5bd8d78fd3cd"
            }
          },
          "metadata": {}
        },
        {
          "output_type": "stream",
          "name": "stderr",
          "text": [
            "WARNING:accelerate.big_modeling:Some parameters are on the meta device because they were offloaded to the disk and cpu.\n"
          ]
        }
      ]
    },
    {
      "cell_type": "code",
      "source": [
        "DEFAULT_TTS_MODEL = \"tts_models/en/vctk/vits\"  # multi-speaker model\n",
        "\n",
        "def init_tts(tts_model=DEFAULT_TTS_MODEL):\n",
        "    print(\"Loading Coqui TTS:\", tts_model)\n",
        "    tts = TTS(model_name=tts_model, progress_bar=False)\n",
        "    try:\n",
        "        if torch.cuda.is_available():\n",
        "            tts = tts.to(\"cuda\")\n",
        "    except Exception:\n",
        "        pass\n",
        "    if hasattr(tts, \"speakers\") and tts.speakers:\n",
        "        print(f\"✅ Multi-speaker model loaded. Example speakers: {tts.speakers[:5]} ...\")\n",
        "    else:\n",
        "        print(\"✅ Single-speaker model loaded.\")\n",
        "    return tts\n",
        "\n",
        "tts_engine = init_tts()\n",
        "\n",
        "def synthesize_to_wav(tts, text: str, out_path: str, speaker: str = None):\n",
        "    if hasattr(tts, \"speakers\") and tts.speakers:\n",
        "        if speaker is None:\n",
        "            speaker = tts.speakers[0]\n",
        "            print(f\"[INFO] Using default speaker: {speaker}\")\n",
        "        tts.tts_to_file(text=text, file_path=out_path, speaker=speaker, split_sentences=True)\n",
        "    else:\n",
        "        tts.tts_to_file(text=text, file_path=out_path, split_sentences=True)\n",
        "    return out_path\n"
      ],
      "metadata": {
        "colab": {
          "base_uri": "https://localhost:8080/"
        },
        "id": "tdg8z64bF8HG",
        "outputId": "1f5042f3-5190-4956-80b9-7f1f9a608ba6"
      },
      "execution_count": 17,
      "outputs": [
        {
          "output_type": "stream",
          "name": "stdout",
          "text": [
            "Loading Coqui TTS: tts_models/en/vctk/vits\n",
            "✅ Multi-speaker model loaded. Example speakers: ['ED\\n', 'p225', 'p226', 'p227', 'p228'] ...\n"
          ]
        }
      ]
    },
    {
      "cell_type": "code",
      "source": [
        "def generate_audiobook(text, out_path, speaker=None, refine=False):\n",
        "    \"\"\"\n",
        "    Generate audiobook from text using IBM Granite (optional refinement) + Coqui TTS.\n",
        "    Automatically selects first speaker for multi-speaker models.\n",
        "    Saves output to out_path and returns the path.\n",
        "    \"\"\"\n",
        "    import os\n",
        "\n",
        "    if refine:\n",
        "        try:\n",
        "            text = refine_text_with_granite(text)  # make sure this function exists\n",
        "        except Exception as e:\n",
        "            print(\"⚠️ Granite refinement skipped:\", e)\n",
        "\n",
        "    if not text or text.strip() == \"\":\n",
        "        print(\"❌ No text provided for audiobook generation\")\n",
        "        return None\n",
        "\n",
        "    # Auto-select first speaker if multi-speaker\n",
        "    try:\n",
        "        available_speakers = tts_engine.speakers\n",
        "        if available_speakers:\n",
        "            speaker = speaker or available_speakers[0]\n",
        "    except AttributeError:\n",
        "        # Single-speaker model: speaker not needed\n",
        "        speaker = None\n",
        "\n",
        "    try:\n",
        "        tts_engine.tts_to_file(\n",
        "            text=text,\n",
        "            file_path=out_path,\n",
        "            speaker=speaker\n",
        "        )\n",
        "        if os.path.exists(out_path):\n",
        "            print(f\"✅ Audiobook saved: {out_path} (Speaker: {speaker})\")\n",
        "            return out_path\n",
        "        else:\n",
        "            print(\"❌ File not saved\")\n",
        "            return None\n",
        "    except Exception as e:\n",
        "        print(\"❌ Error in TTS:\", e)\n",
        "        return None\n"
      ],
      "metadata": {
        "id": "Tk2Rz_UJOQED"
      },
      "execution_count": 17,
      "outputs": []
    },
    {
      "cell_type": "code",
      "source": [
        "from pathlib import Path\n",
        "import docx\n",
        "import PyPDF2\n",
        "from ebooklib import epub\n",
        "\n",
        "def extract_text_from_file(file_path: str) -> str:\n",
        "    \"\"\"Extract text from txt, pdf, docx, epub.\"\"\"\n",
        "    file_ext = Path(file_path).suffix.lower()\n",
        "\n",
        "    if file_ext == \".txt\":\n",
        "        with open(file_path, \"r\", encoding=\"utf-8\", errors=\"ignore\") as f:\n",
        "            return f.read()\n",
        "\n",
        "    elif file_ext == \".pdf\":\n",
        "        text = \"\"\n",
        "        with open(file_path, \"rb\") as f:\n",
        "            reader = PyPDF2.PdfReader(f)\n",
        "            for page in reader.pages:\n",
        "                text += page.extract_text() or \"\"\n",
        "        return text\n",
        "\n",
        "    elif file_ext == \".docx\":\n",
        "        doc = docx.Document(file_path)\n",
        "        return \"\\n\".join([para.text for para in doc.paragraphs])\n",
        "\n",
        "    elif file_ext == \".epub\":\n",
        "        book = epub.read_epub(file_path)\n",
        "        text = []\n",
        "        for item in book.get_items():\n",
        "            if item.get_type() == 9:  # DOCUMENT\n",
        "                try:\n",
        "                    text.append(item.get_content().decode(\"utf-8\"))\n",
        "                except:\n",
        "                    pass\n",
        "        return \"\\n\".join(text)\n",
        "\n",
        "    else:\n",
        "        raise ValueError(\"Unsupported file format. Please upload .txt, .pdf, .docx, or .epub.\")\n"
      ],
      "metadata": {
        "id": "aIkyUHx7ImPr"
      },
      "execution_count": 4,
      "outputs": []
    },
    {
      "cell_type": "code",
      "source": [
        "def handle_generation(text, refine=False):\n",
        "    out_path = \"audiobook.wav\"\n",
        "    return generate_audiobook(text, out_path, speaker=None, refine=refine)\n",
        "\n",
        "def handle_file_upload(file, refine=False):\n",
        "    if file is None:\n",
        "        return None\n",
        "    text = extract_text_from_file(file.name)\n",
        "    out_path = \"audiobook.wav\"\n",
        "    return generate_audiobook(text, out_path, speaker=None, refine=refine)\n"
      ],
      "metadata": {
        "id": "d-HNQTl6PHzi"
      },
      "execution_count": 20,
      "outputs": []
    },
    {
      "cell_type": "code",
      "source": [
        "from TTS.api import TTS\n",
        "\n",
        "# Load Coqui TTS model (multi-speaker English)\n",
        "tts_engine = TTS(\"tts_models/en/vctk/vits\")\n",
        "\n",
        "# List available speakers\n",
        "try:\n",
        "    speaker_list = tts_engine.speakers\n",
        "except AttributeError:\n",
        "    speaker_list = [\"default\"]\n",
        "\n",
        "print(\"✅ TTS engine loaded\")\n",
        "print(\"Available speakers:\", speaker_list)\n"
      ],
      "metadata": {
        "colab": {
          "base_uri": "https://localhost:8080/"
        },
        "id": "YQUYZ4ylNJXg",
        "outputId": "a7d3178b-1328-4ee9-d5ea-32ea70475692"
      },
      "execution_count": 14,
      "outputs": [
        {
          "output_type": "stream",
          "name": "stdout",
          "text": [
            "✅ TTS engine loaded\n",
            "Available speakers: ['ED\\n', 'p225', 'p226', 'p227', 'p228', 'p229', 'p230', 'p231', 'p232', 'p233', 'p234', 'p236', 'p237', 'p238', 'p239', 'p240', 'p241', 'p243', 'p244', 'p245', 'p246', 'p247', 'p248', 'p249', 'p250', 'p251', 'p252', 'p253', 'p254', 'p255', 'p256', 'p257', 'p258', 'p259', 'p260', 'p261', 'p262', 'p263', 'p264', 'p265', 'p266', 'p267', 'p268', 'p269', 'p270', 'p271', 'p272', 'p273', 'p274', 'p275', 'p276', 'p277', 'p278', 'p279', 'p280', 'p281', 'p282', 'p283', 'p284', 'p285', 'p286', 'p287', 'p288', 'p292', 'p293', 'p294', 'p295', 'p297', 'p298', 'p299', 'p300', 'p301', 'p302', 'p303', 'p304', 'p305', 'p306', 'p307', 'p308', 'p310', 'p311', 'p312', 'p313', 'p314', 'p316', 'p317', 'p318', 'p323', 'p326', 'p329', 'p330', 'p333', 'p334', 'p335', 'p336', 'p339', 'p340', 'p341', 'p343', 'p345', 'p347', 'p351', 'p360', 'p361', 'p362', 'p363', 'p364', 'p374', 'p376']\n"
          ]
        }
      ]
    },
    {
      "cell_type": "code",
      "source": [
        "# Pick the first available speaker\n",
        "speaker = speaker_list[0] if speaker_list else None\n",
        "\n",
        "# Test TTS directly with a speaker\n",
        "out_path = \"test.wav\"\n",
        "tts_engine.tts_to_file(\"Hello! This is a test.\", file_path=out_path, speaker=speaker)\n",
        "\n",
        "import os\n",
        "print(\"File exists?\", os.path.exists(out_path))\n",
        "print(\"Speaker used:\", speaker)\n"
      ],
      "metadata": {
        "colab": {
          "base_uri": "https://localhost:8080/"
        },
        "id": "bMiPdvNGN84p",
        "outputId": "67bddf0c-c29d-4c9d-f919-ecd76aa2af5a"
      },
      "execution_count": 16,
      "outputs": [
        {
          "output_type": "stream",
          "name": "stdout",
          "text": [
            "File exists? True\n",
            "Speaker used: ED\n",
            "\n"
          ]
        }
      ]
    },
    {
      "cell_type": "code",
      "source": [
        "import gradio as gr\n",
        "\n",
        "# ------------------------\n",
        "# Handlers for Gradio\n",
        "# ------------------------\n",
        "def handle_generation(text, refine=False):\n",
        "    out_path = \"audiobook.wav\"\n",
        "    return generate_audiobook(text, out_path, speaker=None, refine=refine)\n",
        "\n",
        "def handle_file_upload(file, refine=False):\n",
        "    if file is None:\n",
        "        return None\n",
        "    text = extract_text_from_file(file.name)\n",
        "    out_path = \"audiobook.wav\"\n",
        "    return generate_audiobook(text, out_path, speaker=None, refine=refine)\n",
        "\n",
        "# ------------------------\n",
        "# Gradio UI\n",
        "# ------------------------\n",
        "with gr.Blocks() as demo:\n",
        "    gr.Markdown(\"## 🎧 EchoVerse – AI Powered Audiobook Generator\")\n",
        "\n",
        "    # --- Paste Text Tab ---\n",
        "    with gr.Tab(\"📖 Paste Text\"):\n",
        "        with gr.Row():\n",
        "            with gr.Column():\n",
        "                input_text = gr.Textbox(\n",
        "                    label=\"Enter your text\",\n",
        "                    lines=10,\n",
        "                    placeholder=\"Paste your story, article, or book chapter here...\"\n",
        "                )\n",
        "                refine_opt1 = gr.Checkbox(\n",
        "                    label=\"Refine text with IBM Granite\", value=True\n",
        "                )\n",
        "                generate_btn1 = gr.Button(\"🎙️ Generate Audiobook\")\n",
        "            with gr.Column():\n",
        "                audio_output1 = gr.Audio(\n",
        "                    label=\"Generated Audiobook\", type=\"filepath\"\n",
        "                )\n",
        "\n",
        "        generate_btn1.click(\n",
        "            fn=handle_generation,\n",
        "            inputs=[input_text, refine_opt1],  # Only valid Gradio components\n",
        "            outputs=audio_output1\n",
        "        )\n",
        "\n",
        "    # --- Upload File Tab ---\n",
        "    with gr.Tab(\"📂 Upload File\"):\n",
        "        with gr.Row():\n",
        "            with gr.Column():\n",
        "                file_input = gr.File(\n",
        "                    label=\"Upload a file (.txt, .pdf, .docx, .epub)\",\n",
        "                    file_types=[\".txt\", \".pdf\", \".docx\", \".epub\"]\n",
        "                )\n",
        "                refine_opt2 = gr.Checkbox(\n",
        "                    label=\"Refine text with IBM Granite\", value=True\n",
        "                )\n",
        "                generate_btn2 = gr.Button(\"🎙️ Generate Audiobook from File\")\n",
        "            with gr.Column():\n",
        "                audio_output2 = gr.Audio(\n",
        "                    label=\"Generated Audiobook\", type=\"filepath\"\n",
        "                )\n",
        "\n",
        "        generate_btn2.click(\n",
        "            fn=handle_file_upload,\n",
        "            inputs=[file_input, refine_opt2],\n",
        "            outputs=audio_output2\n",
        "        )\n",
        "\n",
        "demo.launch()\n"
      ],
      "metadata": {
        "colab": {
          "base_uri": "https://localhost:8080/",
          "height": 646
        },
        "id": "oS24eIW7PWEQ",
        "outputId": "9ebe9128-dc17-45eb-8fee-050be7a3e164"
      },
      "execution_count": 21,
      "outputs": [
        {
          "output_type": "stream",
          "name": "stdout",
          "text": [
            "It looks like you are running Gradio on a hosted Jupyter notebook, which requires `share=True`. Automatically setting `share=True` (you can turn this off by setting `share=False` in `launch()` explicitly).\n",
            "\n",
            "Colab notebook detected. To show errors in colab notebook, set debug=True in launch()\n",
            "* Running on public URL: https://9f97233dbd86b714a0.gradio.live\n",
            "\n",
            "This share link expires in 1 week. For free permanent hosting and GPU upgrades, run `gradio deploy` from the terminal in the working directory to deploy to Hugging Face Spaces (https://huggingface.co/spaces)\n"
          ]
        },
        {
          "output_type": "display_data",
          "data": {
            "text/plain": [
              "<IPython.core.display.HTML object>"
            ],
            "text/html": [
              "<div><iframe src=\"https://9f97233dbd86b714a0.gradio.live\" width=\"100%\" height=\"500\" allow=\"autoplay; camera; microphone; clipboard-read; clipboard-write;\" frameborder=\"0\" allowfullscreen></iframe></div>"
            ]
          },
          "metadata": {}
        },
        {
          "output_type": "execute_result",
          "data": {
            "text/plain": []
          },
          "metadata": {},
          "execution_count": 21
        }
      ]
    }
  ]
}